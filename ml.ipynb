{
  "nbformat": 4,
  "nbformat_minor": 0,
  "metadata": {
    "colab": {
      "provenance": []
    },
    "kernelspec": {
      "name": "python3",
      "display_name": "Python 3"
    },
    "language_info": {
      "name": "python"
    }
  },
  "cells": [
    {
      "cell_type": "code",
      "execution_count": null,
      "metadata": {
        "id": "pMEy2cVkYAkR",
        "collapsed": true
      },
      "outputs": [],
      "source": [
        "import pandas as pd\n",
        "from google.colab import files\n",
        "uploaded = files.upload()\n"
      ]
    },
    {
      "cell_type": "code",
      "source": [
        "teams= pd.read_csv('teams.csv')\n",
        "teams\n",
        "\n"
      ],
      "metadata": {
        "collapsed": true,
        "id": "X0FoX2g33E4B"
      },
      "execution_count": null,
      "outputs": []
    },
    {
      "cell_type": "code",
      "source": [
        "teams = teams[['year','athletes','age','prev_medals','prev_3_medals','medals']]\n",
        "teams"
      ],
      "metadata": {
        "collapsed": true,
        "id": "8zwo_JzA5cAr"
      },
      "execution_count": null,
      "outputs": []
    },
    {
      "cell_type": "code",
      "source": [
        "teams.corr()[\"medals\"] #to see the corrolation between medals and other features"
      ],
      "metadata": {
        "collapsed": true,
        "id": "7jLEkv0i6EmP"
      },
      "execution_count": null,
      "outputs": []
    },
    {
      "cell_type": "code",
      "source": [
        "import seaborn as sns #python graphing library\n",
        "sns.lmplot(x='athletes',y='medals', data=teams, fit_reg=True, ci= None) #good news there is a linear relationship"
      ],
      "metadata": {
        "collapsed": true,
        "id": "QHHabYp97Qtz"
      },
      "execution_count": null,
      "outputs": []
    },
    {
      "cell_type": "code",
      "source": [
        "teams.plot.hist(y='medals') #our data is a little bit imbalanced :(\n",
        "    # we'll do some data cleaning"
      ],
      "metadata": {
        "collapsed": true,
        "id": "J2v9e1tJ8eCw"
      },
      "execution_count": null,
      "outputs": []
    },
    {
      "cell_type": "code",
      "source": [
        "teams[teams.isnull().any(axis=1)]\n",
        "teams= teams.dropna() #drop any missing value\n",
        "teams"
      ],
      "metadata": {
        "collapsed": true,
        "id": "Hpne_H0L8xWZ"
      },
      "execution_count": null,
      "outputs": []
    },
    {
      "cell_type": "code",
      "source": [
        "#we'll split our dataset into sets to train them\n",
        "train = teams[teams['year']<2012].copy() #the first set\n",
        "test = teams[teams['year']>2012].copy() #the second set\n",
        "test.shape\n"
      ],
      "metadata": {
        "collapsed": true,
        "id": "osefXLY880tg"
      },
      "execution_count": null,
      "outputs": []
    },
    {
      "cell_type": "code",
      "source": [
        "train.shape"
      ],
      "metadata": {
        "collapsed": true,
        "id": "yPkHBwLC9wwO"
      },
      "execution_count": null,
      "outputs": []
    },
    {
      "cell_type": "code",
      "source": [
        "from sklearn.linear_model import LinearRegression # here we will train our model\n",
        "reg = LinearRegression()\n",
        "predictors =['athletes','prev_medals'] #we define our predictors\n",
        "target = 'medals'\n",
        "\n"
      ],
      "metadata": {
        "id": "YMlKdNUV9ynE"
      },
      "execution_count": 21,
      "outputs": []
    },
    {
      "cell_type": "code",
      "source": [
        "reg.fit(train[predictors],train['medals'])\n"
      ],
      "metadata": {
        "id": "mJQHxOA0_cCU"
      },
      "execution_count": null,
      "outputs": []
    },
    {
      "cell_type": "code",
      "source": [
        "predictions = reg.predict(test[predictors])"
      ],
      "metadata": {
        "id": "IAyknAuLAGxl"
      },
      "execution_count": 24,
      "outputs": []
    },
    {
      "cell_type": "code",
      "source": [
        "predictions #our values are not rounded and contain negative values"
      ],
      "metadata": {
        "collapsed": true,
        "id": "Tl2o1Ze2Atuo"
      },
      "execution_count": null,
      "outputs": []
    },
    {
      "cell_type": "code",
      "source": [
        "test['predictions'] = predictions #we organised them\n",
        "test"
      ],
      "metadata": {
        "collapsed": true,
        "id": "_T7fA0f7DGLo"
      },
      "execution_count": null,
      "outputs": []
    },
    {
      "cell_type": "code",
      "source": [
        "test.loc[test['predictions']<0,'predictions']=0 #we gonna replace the negative values into 0 bcz logically we cant get a negative value of a medal\n",
        "test['predictions'] = test['predictions'].round() #round to the nearest whole nmbr"
      ],
      "metadata": {
        "id": "eTq7Y3XjDs-X"
      },
      "execution_count": 29,
      "outputs": []
    },
    {
      "cell_type": "code",
      "source": [
        "test"
      ],
      "metadata": {
        "collapsed": true,
        "id": "IeAegFpKEwvX"
      },
      "execution_count": null,
      "outputs": []
    },
    {
      "cell_type": "code",
      "source": [
        "from sklearn.metrics import mean_absolute_error\n",
        "error = mean_absolute_error(test['medals'],test['predictions'])\n",
        "error\n"
      ],
      "metadata": {
        "id": "7xs5En_AFAAq"
      },
      "execution_count": null,
      "outputs": []
    },
    {
      "cell_type": "code",
      "source": [
        "teams.describe()['medals'] #this is a pandas function"
      ],
      "metadata": {
        "id": "JampFp71G56R"
      },
      "execution_count": null,
      "outputs": []
    },
    {
      "cell_type": "code",
      "source": [
        "errors = (test['medals']- predictions).abs()\n",
        "#test['medals'] - predictions: This calculates the difference between the actual values\n",
        "#For example, if the actual value is 5 and the predicted value is 3, the error will be |5 - 3| = 2. If the actual value is 5 and the predicted value is 7, the error will be |5 - 7| = 2"
      ],
      "metadata": {
        "id": "8loXOUBjKDlw"
      },
      "execution_count": 50,
      "outputs": []
    },
    {
      "cell_type": "code",
      "source": [
        "errors"
      ],
      "metadata": {
        "id": "HWFfZM40LflJ"
      },
      "execution_count": null,
      "outputs": []
    },
    {
      "cell_type": "code",
      "source": [
        "print(test.columns)  # Print all column names in 'test'\n"
      ],
      "metadata": {
        "id": "yWRkwuk2iAN_"
      },
      "execution_count": null,
      "outputs": []
    },
    {
      "cell_type": "code",
      "source": [
        "medals= errors.groupby(test['medals']).mean()"
      ],
      "metadata": {
        "id": "1Acf6mzAiugK"
      },
      "execution_count": 59,
      "outputs": []
    },
    {
      "cell_type": "code",
      "source": [
        "medals"
      ],
      "metadata": {
        "id": "tSSHk9Wxi1pD"
      },
      "execution_count": null,
      "outputs": []
    }
  ]
}